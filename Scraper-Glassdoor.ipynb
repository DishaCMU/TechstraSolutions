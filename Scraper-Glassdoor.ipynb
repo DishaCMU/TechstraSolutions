{
 "cells": [
  {
   "cell_type": "code",
   "execution_count": 27,
   "metadata": {
    "collapsed": true
   },
   "outputs": [],
   "source": [
    "from bs4 import BeautifulSoup\n",
    "import time\n",
    "import urllib.request\n",
    "from urllib.request import Request, urlopen\n",
    "import random\n",
    "import pandas as pd"
   ]
  },
  {
   "cell_type": "code",
   "execution_count": 28,
   "metadata": {},
   "outputs": [
    {
     "name": "stderr",
     "output_type": "stream",
     "text": [
      "C:\\Users\\disna\\Anaconda3\\lib\\site-packages\\bs4\\__init__.py:181: UserWarning: No parser was explicitly specified, so I'm using the best available HTML parser for this system (\"lxml\"). This usually isn't a problem, but if you run this code on another system, or in a different virtual environment, it may use a different parser and behave differently.\n",
      "\n",
      "The code that caused this warning is on line 193 of the file C:\\Users\\disna\\Anaconda3\\lib\\runpy.py. To get rid of this warning, change code that looks like this:\n",
      "\n",
      " BeautifulSoup(YOUR_MARKUP})\n",
      "\n",
      "to this:\n",
      "\n",
      " BeautifulSoup(YOUR_MARKUP, \"lxml\")\n",
      "\n",
      "  markup_type=markup_type))\n"
     ]
    }
   ],
   "source": [
    "users1=['Googlebot/2.1','Mozilla/5.0']\n",
    "\n",
    "companies=[\"Microsoft\",\"Google\",\"Amazon\",\"Highmark-Health\",\"ADP\",\"earnst-and-young\",\"American-express\"]\n",
    "   \n",
    "urls = [\"https://www.glassdoor.com/Reviews/Microsoft-Reviews-E1651.htm\",\n",
    "\"https://www.glassdoor.com/Reviews/Google-Reviews-E9079.htm\",\n",
    "\"https://www.glassdoor.com/Reviews/Amazon-Reviews-E6036.htm\",\n",
    "\"https://www.glassdoor.com/Reviews/Highmark-Reviews-E234718.htm\",\n",
    "\"https://www.glassdoor.com/Reviews/ADP-Reviews-E64.htm\",\n",
    "\"https://www.glassdoor.com/Reviews/EY-Reviews-E2784.htm\",\n",
    "\"https://www.glassdoor.com/Reviews/American-Express-Reviews-E35.htm\"]\n",
    "\n",
    "i=0\n",
    "for company_url in urls:\n",
    "    posReviews =[]\n",
    "    negReviews =[]\n",
    "    review_dates =[]\n",
    "    review_ratings=[]\n",
    "    company = companies[i]\n",
    "    url = company_url\n",
    "    count =0\n",
    "    while url is not None and count<10:\n",
    "        count +=1   \n",
    "        time.sleep(1)\n",
    "        agent=random.choice(users1)\n",
    "        req = Request(url, headers={'User-Agent': agent})\n",
    "        webpage = urlopen(req).read().decode('utf-8')\n",
    "\n",
    "        soup = BeautifulSoup(webpage) \n",
    "        for desc in soup.find_all(\"div\", {\"class\":\"hreview\"}):\n",
    "            review_date = desc.find(\"time\", attrs={'class' : 'date subtle small'})\n",
    "            if review_date is not None:\n",
    "                review_dates.append(review_date.text)\n",
    "            else:\n",
    "                review_dates.append(None)\n",
    "\n",
    "            \n",
    "            posCont = desc.find(\"p\", attrs={'class' : ' pros mainText truncateThis wrapToggleStr'}).text\n",
    "            posReviews.append(posCont)\n",
    "            \n",
    "            review_rating = desc.find(\"span\", attrs={'class' : 'value-title'})\n",
    "            review_ratings.append(review_rating.attrs['title'])\n",
    "            \n",
    "            \n",
    "            negCont = desc.find(\"p\", attrs={'class' : ' cons mainText truncateThis wrapToggleStr'}).text\n",
    "            negReviews.append(negCont)\n",
    "        \n",
    "        next_page = soup.find(\"li\", {\"class\":\"next\"})\n",
    "        if next_page is not None:\n",
    "            next_url = next_page.find(\"a\")['href']\n",
    "            url = \"https://www.glassdoor.com/\"+next_url\n",
    "        else:\n",
    "            url = None\n",
    "            \n",
    "            \n",
    "    company_reviews ={}\n",
    "    company_reviews['review_rating'] =review_ratings\n",
    "    company_reviews['review_date'] =review_dates\n",
    "    company_reviews['posReview'] =posReviews\n",
    "    company_reviews['negReviews'] =negReviews\n",
    "\n",
    "    pd.DataFrame(company_reviews).to_csv('company_reviews_glassdoor_'+company+'.csv')\n",
    "    i += 1"
   ]
  }
 ],
 "metadata": {
  "kernelspec": {
   "display_name": "Python 3",
   "language": "python",
   "name": "python3"
  },
  "language_info": {
   "codemirror_mode": {
    "name": "ipython",
    "version": 3
   },
   "file_extension": ".py",
   "mimetype": "text/x-python",
   "name": "python",
   "nbconvert_exporter": "python",
   "pygments_lexer": "ipython3",
   "version": "3.6.3"
  }
 },
 "nbformat": 4,
 "nbformat_minor": 2
}
